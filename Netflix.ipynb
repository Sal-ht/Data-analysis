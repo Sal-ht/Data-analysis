{
 "cells": [
  {
   "cell_type": "code",
   "execution_count": null,
   "id": "2a09fd7b-a91c-47e0-bc1a-50186275585c",
   "metadata": {},
   "outputs": [
    {
     "ename": "",
     "evalue": "",
     "output_type": "error",
     "traceback": [
      "\u001b[1;31mRunning cells with 'Python 3.13.2' requires the ipykernel package.\n",
      "\u001b[1;31m<a href='command:jupyter.createPythonEnvAndSelectController'>Create a Python Environment</a> with the required packages.\n",
      "\u001b[1;31mOr install 'ipykernel' using the command: 'c:/Users/DESKTOP/AppData/Local/Programs/Python/Python313/python.exe -m pip install ipykernel -U --user --force-reinstall'"
     ]
    }
   ],
   "source": [
    "# Task 1: Load and Explore the Dataset\n",
    "import pandas as pd\n",
    "import matplotlib.pyplot as plt\n",
    "import seaborn as sns\n",
    "\n",
    "# Load the dataset\n",
    "df = pd.read_csv(\"Netflix.csv\")\n",
    "\n",
    "# Display the first few rows\n",
    "print(\"First 5 rows of the dataset:\")\n",
    "display(df.head())\n",
    "\n",
    "# Check data structure and types\n",
    "print(\"\\nData types:\")\n",
    "print(df.dtypes)\n",
    "\n",
    "# Check for missing values\n",
    "print(\"\\nMissing values:\")\n",
    "print(df.isnull().sum())\n",
    "\n",
    "# Clean dataset: drop or fill missing values\n",
    "df = df.dropna()  # or you can use df.fillna(method='ffill') if appropriate"
   ]
  },
  {
   "cell_type": "code",
   "execution_count": null,
   "id": "605588ac-478a-4269-8b92-606712be9241",
   "metadata": {},
   "outputs": [],
   "source": [
    "# Task 2: Basic Data Analysis\n",
    "\n",
    "# Descriptive statistics\n",
    "print(\"\\nDescriptive statistics:\")\n",
    "display(df.describe())\n",
    "\n",
    "# Group by Rating and show average IMDB rating\n",
    "print(\"\\nAverage IMDB Rating by Rating Category:\")\n",
    "print(df.groupby('Rating')['IMDB_Rating'].mean())\n",
    "\n",
    "# Group by Netflix availability\n",
    "print(\"\\nNumber of Shows on Netflix vs Not on Netflix:\")\n",
    "print(df['Netflix'].value_counts())"
   ]
  },
  {
   "cell_type": "code",
   "execution_count": null,
   "id": "7069430b-23d2-4b2a-90a8-f47b10e76939",
   "metadata": {},
   "outputs": [],
   "source": [
    "# Task 3: Data Visualization\n",
    "\n",
    "# Set the visual theme\n",
    "sns.set(style=\"whitegrid\")\n",
    "\n",
    "# 1. Line Chart: Number of shows released per year\n",
    "plt.figure(figsize=(8, 5))\n",
    "df.groupby('Year').size().plot(marker='o', color='teal')\n",
    "plt.title(\"Shows Released Per Year\")\n",
    "plt.xlabel(\"Year\")\n",
    "plt.ylabel(\"Number of Shows\")\n",
    "plt.tight_layout()\n",
    "plt.show()\n",
    "\n",
    "# 2. Bar Chart: Average IMDB by Age Rating\n",
    "plt.figure(figsize=(7, 5))\n",
    "df.groupby('Rating')['IMDB_Rating'].mean().sort_values().plot(kind='bar', color='coral')\n",
    "plt.title(\"Average IMDB Rating by Age Rating\")\n",
    "plt.xlabel(\"Rating\")\n",
    "plt.ylabel(\"IMDB Rating\")\n",
    "plt.tight_layout()\n",
    "plt.show()\n",
    "\n",
    "# 3. Histogram: IMDB Ratings Distribution\n",
    "plt.figure(figsize=(7, 5))\n",
    "sns.histplot(df['IMDB_Rating'], bins=10, kde=True, color='purple')\n",
    "plt.title(\"Distribution of IMDB Ratings\")\n",
    "plt.xlabel(\"IMDB Rating\")\n",
    "plt.ylabel(\"Frequency\")\n",
    "plt.tight_layout()\n",
    "plt.show()\n",
    "\n",
    "# 4. Scatter Plot: Year vs IMDB Rating (with Netflix hue)\n",
    "plt.figure(figsize=(8, 5))\n",
    "sns.scatterplot(data=df, x=\"Year\", y=\"IMDB_Rating\", hue=\"Netflix\", palette={1: \"red\", 0: \"blue\"})\n",
    "plt.title(\"IMDB Ratings Over Time (Netflix = Red)\")\n",
    "plt.xlabel(\"Year\")\n",
    "plt.ylabel(\"IMDB Rating\")\n",
    "plt.legend(title=\"On Netflix\")\n",
    "plt.tight_layout()\n",
    "plt.show()\n"
   ]
  },
  {
   "cell_type": "code",
   "execution_count": null,
   "id": "b58e1dae",
   "metadata": {},
   "outputs": [],
   "source": []
  },
  {
   "cell_type": "code",
   "execution_count": null,
   "id": "e94208a1-1c2b-4154-945a-6441aa7a6d2f",
   "metadata": {},
   "outputs": [],
   "source": []
  }
 ],
 "metadata": {
  "kernelspec": {
   "display_name": "Python 3",
   "language": "python",
   "name": "python3"
  },
  "language_info": {
   "codemirror_mode": {
    "name": "ipython",
    "version": 3
   },
   "file_extension": ".py",
   "mimetype": "text/x-python",
   "name": "python",
   "nbconvert_exporter": "python",
   "pygments_lexer": "ipython3",
   "version": "3.13.2"
  }
 },
 "nbformat": 4,
 "nbformat_minor": 5
}
